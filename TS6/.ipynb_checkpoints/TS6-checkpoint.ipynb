{
 "cells": [
  {
   "cell_type": "code",
   "execution_count": null,
   "id": "d9dbc3e6",
   "metadata": {},
   "outputs": [],
   "source": [
    "import scipy\n",
    "import scipy.signal as signal\n",
    "from scipy import signal as sig\n",
    "from splane import analyze_sys, pretty_print_bicuad_omegayq\n",
    "import math as m\n",
    "\n",
    "Alfa_min = 20\n",
    "Alfa_max = 1\n",
    "\n",
    "## Calculo el epsilon y con el el N\n",
    "Epsilon = m.sqrt(m.pow(10 , 0.1 * Alfa_max) - 1)\n",
    "\n",
    "Ws_LP=3\n",
    "\n",
    "# Maxima planicidad\n",
    "N = (m.log10( (m.pow(10,Alfa_min * 0.1) - 1) / (m.pow(10,Alfa_max * 0.1) - 1) ) ) / ( 2 * m.log10(Ws_LP))\n",
    "\n",
    "\n",
    "N=m.ceil(N)\n",
    "print(f'Epsilon = {Epsilon},N_MP = {N}')\n",
    "\n",
    "import numpy as np\n",
    "Raices=np.roots([-(m.pow(10 , 0.1 * Alfa_max)-1),0,0,0,0,0,1])\n",
    "\n",
    "Raices_limpias=Raices[np.real(Raices)<0]\n",
    "\n",
    "\n",
    "print(f'Raices = {Raices_limpias}') \n",
    "\n",
    "Wo2=Raices[1]*Raices[0]\n"
   ]
  },
  {
   "cell_type": "code",
   "execution_count": null,
   "id": "82a920ae",
   "metadata": {},
   "outputs": [],
   "source": [
    "Qp=0.5773\n",
    "Wp=0.7983\n",
    "K=1\n",
    "num=[1,0,0]\n",
    "den=[1,(Wp/Qp),Wp**2]\n",
    "\n",
    "mi_sos_A = sig.TransferFunction(num,den)\n",
    "analyze_sys(mi_sos_A, 'Pasa-Alto')\n"
   ]
  },
  {
   "cell_type": "code",
   "execution_count": null,
   "id": "c928d488",
   "metadata": {},
   "outputs": [],
   "source": [
    "P1=-1.25257639\n",
    "P2=-0.62628819+1.08476297j\n",
    "P3=-0.62628819-1.08476297j\n",
    "\n",
    "Rp2=-0.62628819\n",
    "\n",
    "num=[1,0.000000001,1]\n",
    "#den=[1,-2*-0.62628819/100,P2*P3/10000]\n",
    "den=[1,0.0001/(100),0.0001/(100**2),P2*P3*P1/(100**3)]\n",
    "\n",
    "mi_sos_A = sig.TransferFunction(num,den)\n",
    "analyze_sys(mi_sos_A, 'Pasa-Bajo')"
   ]
  },
  {
   "cell_type": "code",
   "execution_count": null,
   "id": "6ab2e2a6",
   "metadata": {},
   "outputs": [],
   "source": [
    "P2*P3\n",
    "m.sqrt(1.5689475980166974)\n"
   ]
  },
  {
   "cell_type": "code",
   "execution_count": null,
   "id": "546eb497",
   "metadata": {},
   "outputs": [],
   "source": []
  }
 ],
 "metadata": {
  "kernelspec": {
   "display_name": "Python 3 (ipykernel)",
   "language": "python",
   "name": "python3"
  },
  "language_info": {
   "codemirror_mode": {
    "name": "ipython",
    "version": 3
   },
   "file_extension": ".py",
   "mimetype": "text/x-python",
   "name": "python",
   "nbconvert_exporter": "python",
   "pygments_lexer": "ipython3",
   "version": "3.9.7"
  }
 },
 "nbformat": 4,
 "nbformat_minor": 5
}
