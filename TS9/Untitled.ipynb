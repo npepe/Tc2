{
 "cells": [
  {
   "cell_type": "code",
   "execution_count": 9,
   "id": "19f99e38",
   "metadata": {},
   "outputs": [],
   "source": [
    "# Inicialización e importación de módulos\n",
    "\n",
    "# Módulos para Jupyter\n",
    "import warnings\n",
    "warnings.filterwarnings('ignore')\n",
    "\n",
    "# Módulos importantantes\n",
    "import scipy.signal as sig\n",
    "import numpy as np\n",
    "import matplotlib as mpl\n",
    "import matplotlib.pyplot as plt\n",
    "import scipy.io as sio\n",
    "from splane import plot_plantilla\n",
    "\n",
    "fig_sz_x = 10\n",
    "fig_sz_y = 7\n",
    "fig_dpi = 100 # dpi\n",
    "\n",
    "fig_font_size = 16\n",
    "\n",
    "mpl.rcParams['figure.figsize'] = (fig_sz_x,fig_sz_y)\n",
    "plt.rcParams.update({'font.size':fig_font_size})\n",
    "\n",
    "###\n",
    "## Señal de ECG registrada a 1 kHz, con contaminación de diversos orígenes.\n",
    "###\n",
    "\n",
    "# para listar las variables que hay en el archivo\n",
    "#io.whosmat('ecg.mat')\n",
    "mat_struct = sio.loadmat('ecg.mat')\n",
    "\n",
    "ecg_one_lead = mat_struct['ecg_lead']\n",
    "ecg_one_lead = ecg_one_lead.flatten()\n",
    "cant_muestras = len(ecg_one_lead)\n",
    "\n",
    "fs = 1000 # Hz\n",
    "nyq_frec = fs / 2"
   ]
  },
  {
   "cell_type": "code",
   "execution_count": 10,
   "id": "33670fe6",
   "metadata": {},
   "outputs": [],
   "source": [
    "# Plantilla\n",
    "\n",
    "# filter design\n",
    "ripple = 0 # dB\n",
    "atenuacion = 40 # dB\n",
    "\n",
    "ws1 = 1.0 #Hz\n",
    "wp1 = 3.0 #Hz\n",
    "wp2 = 25.0 #Hz\n",
    "ws2 = 35.0 #Hz\n",
    "\n",
    "frecs = np.array([0.0,         ws1,         wp1,     wp2,     ws2,         nyq_frec   ]) / nyq_frec\n",
    "gains = np.array([-atenuacion, -atenuacion, -ripple, -ripple, -atenuacion, -atenuacion])\n",
    "gains = 10**(gains/20)"
   ]
  },
  {
   "cell_type": "code",
   "execution_count": null,
   "id": "c065b695",
   "metadata": {},
   "outputs": [],
   "source": []
  }
 ],
 "metadata": {
  "kernelspec": {
   "display_name": "Python 3 (ipykernel)",
   "language": "python",
   "name": "python3"
  },
  "language_info": {
   "codemirror_mode": {
    "name": "ipython",
    "version": 3
   },
   "file_extension": ".py",
   "mimetype": "text/x-python",
   "name": "python",
   "nbconvert_exporter": "python",
   "pygments_lexer": "ipython3",
   "version": "3.9.7"
  }
 },
 "nbformat": 4,
 "nbformat_minor": 5
}
